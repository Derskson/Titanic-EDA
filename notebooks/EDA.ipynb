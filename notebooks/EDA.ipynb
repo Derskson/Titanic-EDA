{
 "cells": [
  {
   "metadata": {
    "ExecuteTime": {
     "end_time": "2025-10-23T02:14:57.099379Z",
     "start_time": "2025-10-23T02:14:56.859245Z"
    }
   },
   "cell_type": "code",
   "source": "import pandas as pd",
   "id": "55c28a38584a8b47",
   "outputs": [],
   "execution_count": 1
  }
 ],
 "metadata": {
  "kernelspec": {
   "name": "python3",
   "language": "python",
   "display_name": "Python 3 (ipykernel)"
  }
 },
 "nbformat": 4,
 "nbformat_minor": 5
}
